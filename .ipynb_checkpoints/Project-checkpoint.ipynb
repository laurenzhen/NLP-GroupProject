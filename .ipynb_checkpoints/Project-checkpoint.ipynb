{
 "cells": [
  {
   "cell_type": "markdown",
   "id": "e77650b3",
   "metadata": {},
   "source": [
    "# 1st task, dataset exploration and binary calssification"
   ]
  },
  {
   "cell_type": "code",
   "execution_count": 1,
   "id": "ebc72f41",
   "metadata": {},
   "outputs": [
    {
     "name": "stderr",
     "output_type": "stream",
     "text": [
      "C:\\Program Files\\Python310\\lib\\site-packages\\tqdm\\auto.py:22: TqdmWarning: IProgress not found. Please update jupyter and ipywidgets. See https://ipywidgets.readthedocs.io/en/stable/user_install.html\n",
      "  from .autonotebook import tqdm as notebook_tqdm\n",
      "Using custom data configuration copenlu--nlp_course_tydiqa-cceecfb5416d988a\n",
      "Reusing dataset parquet (C:\\Users\\fiori\\.cache\\huggingface\\datasets\\copenlu___parquet\\copenlu--nlp_course_tydiqa-cceecfb5416d988a\\0.0.0\\2a3b91fbd88a2c90d1dbbb32b460cf621d31bd5b05b934492fdef7d8d6f236ec)\n",
      "100%|████████████████████████████████████████████████████████████████████████████████████| 2/2 [00:00<00:00, 27.57it/s]\n"
     ]
    }
   ],
   "source": [
    "from datasets import load_dataset\n",
    "dataset = load_dataset(\"copenlu/answerable_tydiqa\")\n",
    "train_set = dataset[\"train\"]\n",
    "validation_set = dataset[\"validation\"]"
   ]
  },
  {
   "cell_type": "code",
   "execution_count": 2,
   "id": "4236bce3",
   "metadata": {},
   "outputs": [],
   "source": [
    "import numpy as np\n",
    "import pandas as pd\n",
    "df = pd.DataFrame(train_set)\n",
    "vs = pd.DataFrame(validation_set)"
   ]
  },
  {
   "cell_type": "code",
   "execution_count": 3,
   "id": "166d770d",
   "metadata": {},
   "outputs": [
    {
     "data": {
      "text/html": [
       "<div>\n",
       "<style scoped>\n",
       "    .dataframe tbody tr th:only-of-type {\n",
       "        vertical-align: middle;\n",
       "    }\n",
       "\n",
       "    .dataframe tbody tr th {\n",
       "        vertical-align: top;\n",
       "    }\n",
       "\n",
       "    .dataframe thead th {\n",
       "        text-align: right;\n",
       "    }\n",
       "</style>\n",
       "<table border=\"1\" class=\"dataframe\">\n",
       "  <thead>\n",
       "    <tr style=\"text-align: right;\">\n",
       "      <th></th>\n",
       "      <th>question_text</th>\n",
       "      <th>document_title</th>\n",
       "      <th>language</th>\n",
       "      <th>annotations</th>\n",
       "      <th>document_plaintext</th>\n",
       "      <th>document_url</th>\n",
       "    </tr>\n",
       "  </thead>\n",
       "  <tbody>\n",
       "    <tr>\n",
       "      <th>0</th>\n",
       "      <td>Milloin Charles Fort syntyi?</td>\n",
       "      <td>Charles Fort</td>\n",
       "      <td>finnish</td>\n",
       "      <td>{'answer_start': [18], 'answer_text': ['6. elo...</td>\n",
       "      <td>Charles Hoy Fort (6. elokuuta (joidenkin lähte...</td>\n",
       "      <td>https://fi.wikipedia.org/wiki/Charles%20Fort</td>\n",
       "    </tr>\n",
       "    <tr>\n",
       "      <th>1</th>\n",
       "      <td>“ダン” ダニエル・ジャドソン・キャラハンの出身はどこ</td>\n",
       "      <td>ダニエル・J・キャラハン</td>\n",
       "      <td>japanese</td>\n",
       "      <td>{'answer_start': [35], 'answer_text': ['カリフォルニ...</td>\n",
       "      <td>“ダン”こと、ダニエル・ジャドソン・キャラハンは1890年7月26日、カリフォルニア州サンフ...</td>\n",
       "      <td>https://ja.wikipedia.org/wiki/%E3%83%80%E3%83%...</td>\n",
       "    </tr>\n",
       "    <tr>\n",
       "      <th>2</th>\n",
       "      <td>వేప చెట్టు యొక్క శాస్త్రీయ నామం ఏమిటి?</td>\n",
       "      <td>వేప</td>\n",
       "      <td>telugu</td>\n",
       "      <td>{'answer_start': [12], 'answer_text': ['Azadir...</td>\n",
       "      <td>వేప (లాటిన్ Azadirachta indica, syn. Melia aza...</td>\n",
       "      <td>https://te.wikipedia.org/wiki/%E0%B0%B5%E0%B1%...</td>\n",
       "    </tr>\n",
       "    <tr>\n",
       "      <th>3</th>\n",
       "      <td>চেঙ্গিস খান কোন বংশের রাজা ছিলেন ?</td>\n",
       "      <td>চেঙ্গিজ খান</td>\n",
       "      <td>bengali</td>\n",
       "      <td>{'answer_start': [414], 'answer_text': ['বোরজি...</td>\n",
       "      <td>চেঙ্গিজ খান (মঙ্গোলীয়: Чингис Хаан  আ-ধ্ব-ব: ...</td>\n",
       "      <td>https://bn.wikipedia.org/wiki/%E0%A6%9A%E0%A7%...</td>\n",
       "    </tr>\n",
       "    <tr>\n",
       "      <th>4</th>\n",
       "      <td>రెయ్యలగడ్ద గ్రామ విస్తీర్ణత ఎంత?</td>\n",
       "      <td>రెయ్యలగడ్ద</td>\n",
       "      <td>telugu</td>\n",
       "      <td>{'answer_start': [259], 'answer_text': ['27 హె...</td>\n",
       "      <td>రెయ్యలగడ్ద, విశాఖపట్నం జిల్లా, గంగరాజు మాడుగుల...</td>\n",
       "      <td>https://te.wikipedia.org/wiki/%E0%B0%B0%E0%B1%...</td>\n",
       "    </tr>\n",
       "    <tr>\n",
       "      <th>...</th>\n",
       "      <td>...</td>\n",
       "      <td>...</td>\n",
       "      <td>...</td>\n",
       "      <td>...</td>\n",
       "      <td>...</td>\n",
       "      <td>...</td>\n",
       "    </tr>\n",
       "    <tr>\n",
       "      <th>116062</th>\n",
       "      <td>Kapan Kaisar Tang Gaozu mulai menjabat ?</td>\n",
       "      <td>Kaisar Tang Gaozu</td>\n",
       "      <td>indonesian</td>\n",
       "      <td>{'answer_start': [-1], 'answer_text': ['']}</td>\n",
       "      <td>Hingga tahun 626, situasi makin memanas, Li Sh...</td>\n",
       "      <td>https://id.wikipedia.org/wiki/Kaisar%20Tang%20...</td>\n",
       "    </tr>\n",
       "    <tr>\n",
       "      <th>116063</th>\n",
       "      <td>من ابتكر المثلجات؟</td>\n",
       "      <td>مثلجات</td>\n",
       "      <td>arabic</td>\n",
       "      <td>{'answer_start': [-1], 'answer_text': ['']}</td>\n",
       "      <td>وأشار هؤلاء الإخصائيون إلى أن “صداع الآيس كريم...</td>\n",
       "      <td>https://ar.wikipedia.org/wiki/%D9%85%D8%AB%D9%...</td>\n",
       "    </tr>\n",
       "    <tr>\n",
       "      <th>116064</th>\n",
       "      <td>বাংলা ব্যাকরণ মতে বিশেষণ কয় প্রকার ?</td>\n",
       "      <td>বিশেষণ</td>\n",
       "      <td>bengali</td>\n",
       "      <td>{'answer_start': [-1], 'answer_text': ['']}</td>\n",
       "      <td>উপমান: যার সাথে তুলনা করা হয়।\\nউপমেয়: যাকে ত...</td>\n",
       "      <td>https://bn.wikipedia.org/wiki/%E0%A6%AC%E0%A6%...</td>\n",
       "    </tr>\n",
       "    <tr>\n",
       "      <th>116065</th>\n",
       "      <td>ブラームスの出身はどこ？</td>\n",
       "      <td>ヨハネス・ブラームス</td>\n",
       "      <td>japanese</td>\n",
       "      <td>{'answer_start': [-1], 'answer_text': ['']}</td>\n",
       "      <td>\\nベートーヴェンと同様に自然を愛好し、よくウィーン周辺の森を散策した。その際にキャンディを...</td>\n",
       "      <td>https://ja.wikipedia.org/wiki/%E3%83%A8%E3%83%...</td>\n",
       "    </tr>\n",
       "    <tr>\n",
       "      <th>116066</th>\n",
       "      <td>What is the population of Mahwah, NJ?</td>\n",
       "      <td>Mahwah, New Jersey</td>\n",
       "      <td>english</td>\n",
       "      <td>{'answer_start': [-1], 'answer_text': ['']}</td>\n",
       "      <td>The previous mayor, Bill Laforet faced a recal...</td>\n",
       "      <td>https://en.wikipedia.org/wiki/Mahwah%2C%20New%...</td>\n",
       "    </tr>\n",
       "  </tbody>\n",
       "</table>\n",
       "<p>116067 rows × 6 columns</p>\n",
       "</div>"
      ],
      "text/plain": [
       "                                   question_text      document_title  \\\n",
       "0                   Milloin Charles Fort syntyi?        Charles Fort   \n",
       "1                    “ダン” ダニエル・ジャドソン・キャラハンの出身はどこ        ダニエル・J・キャラハン   \n",
       "2         వేప చెట్టు యొక్క శాస్త్రీయ నామం ఏమిటి?                 వేప   \n",
       "3             চেঙ্গিস খান কোন বংশের রাজা ছিলেন ?         চেঙ্গিজ খান   \n",
       "4               రెయ్యలగడ్ద గ్రామ విస్తీర్ణత ఎంత?          రెయ్యలగడ్ద   \n",
       "...                                          ...                 ...   \n",
       "116062  Kapan Kaisar Tang Gaozu mulai menjabat ?   Kaisar Tang Gaozu   \n",
       "116063                        من ابتكر المثلجات؟              مثلجات   \n",
       "116064      বাংলা ব্যাকরণ মতে বিশেষণ কয় প্রকার ?              বিশেষণ   \n",
       "116065                              ブラームスの出身はどこ？          ヨハネス・ブラームス   \n",
       "116066     What is the population of Mahwah, NJ?  Mahwah, New Jersey   \n",
       "\n",
       "          language                                        annotations  \\\n",
       "0          finnish  {'answer_start': [18], 'answer_text': ['6. elo...   \n",
       "1         japanese  {'answer_start': [35], 'answer_text': ['カリフォルニ...   \n",
       "2           telugu  {'answer_start': [12], 'answer_text': ['Azadir...   \n",
       "3          bengali  {'answer_start': [414], 'answer_text': ['বোরজি...   \n",
       "4           telugu  {'answer_start': [259], 'answer_text': ['27 హె...   \n",
       "...            ...                                                ...   \n",
       "116062  indonesian        {'answer_start': [-1], 'answer_text': ['']}   \n",
       "116063      arabic        {'answer_start': [-1], 'answer_text': ['']}   \n",
       "116064     bengali        {'answer_start': [-1], 'answer_text': ['']}   \n",
       "116065    japanese        {'answer_start': [-1], 'answer_text': ['']}   \n",
       "116066     english        {'answer_start': [-1], 'answer_text': ['']}   \n",
       "\n",
       "                                       document_plaintext  \\\n",
       "0       Charles Hoy Fort (6. elokuuta (joidenkin lähte...   \n",
       "1       “ダン”こと、ダニエル・ジャドソン・キャラハンは1890年7月26日、カリフォルニア州サンフ...   \n",
       "2       వేప (లాటిన్ Azadirachta indica, syn. Melia aza...   \n",
       "3       চেঙ্গিজ খান (মঙ্গোলীয়: Чингис Хаан  আ-ধ্ব-ব: ...   \n",
       "4       రెయ్యలగడ్ద, విశాఖపట్నం జిల్లా, గంగరాజు మాడుగుల...   \n",
       "...                                                   ...   \n",
       "116062  Hingga tahun 626, situasi makin memanas, Li Sh...   \n",
       "116063  وأشار هؤلاء الإخصائيون إلى أن “صداع الآيس كريم...   \n",
       "116064  উপমান: যার সাথে তুলনা করা হয়।\\nউপমেয়: যাকে ত...   \n",
       "116065  \\nベートーヴェンと同様に自然を愛好し、よくウィーン周辺の森を散策した。その際にキャンディを...   \n",
       "116066  The previous mayor, Bill Laforet faced a recal...   \n",
       "\n",
       "                                             document_url  \n",
       "0            https://fi.wikipedia.org/wiki/Charles%20Fort  \n",
       "1       https://ja.wikipedia.org/wiki/%E3%83%80%E3%83%...  \n",
       "2       https://te.wikipedia.org/wiki/%E0%B0%B5%E0%B1%...  \n",
       "3       https://bn.wikipedia.org/wiki/%E0%A6%9A%E0%A7%...  \n",
       "4       https://te.wikipedia.org/wiki/%E0%B0%B0%E0%B1%...  \n",
       "...                                                   ...  \n",
       "116062  https://id.wikipedia.org/wiki/Kaisar%20Tang%20...  \n",
       "116063  https://ar.wikipedia.org/wiki/%D9%85%D8%AB%D9%...  \n",
       "116064  https://bn.wikipedia.org/wiki/%E0%A6%AC%E0%A6%...  \n",
       "116065  https://ja.wikipedia.org/wiki/%E3%83%A8%E3%83%...  \n",
       "116066  https://en.wikipedia.org/wiki/Mahwah%2C%20New%...  \n",
       "\n",
       "[116067 rows x 6 columns]"
      ]
     },
     "execution_count": 3,
     "metadata": {},
     "output_type": "execute_result"
    }
   ],
   "source": [
    "df"
   ]
  },
  {
   "cell_type": "code",
   "execution_count": 4,
   "id": "c561824d",
   "metadata": {},
   "outputs": [],
   "source": [
    "new_df = []\n",
    "new_vs = []\n",
    "for i in range(len(df)):\n",
    "    if df.iloc[i,2] == 'japanese' or df.iloc[i,2] == 'finnish' or df.iloc[i,2] == 'english':\n",
    "        new_df.append(df.loc[i, :])\n",
    "for i in range(len(vs)):\n",
    "    if vs.iloc[i,2] == 'japanese' or vs.iloc[i,2] == 'finnish' or vs.iloc[i,2] == 'english':\n",
    "        new_vs.append(vs.loc[i, :])\n",
    "df = pd.DataFrame(new_df) #only with english, japanese or finnish text\n",
    "vs = pd.DataFrame(new_vs) #only with english, japanese or finnish text"
   ]
  },
  {
   "cell_type": "code",
   "execution_count": 5,
   "id": "80ff3ab3",
   "metadata": {},
   "outputs": [
    {
     "data": {
      "text/html": [
       "<div>\n",
       "<style scoped>\n",
       "    .dataframe tbody tr th:only-of-type {\n",
       "        vertical-align: middle;\n",
       "    }\n",
       "\n",
       "    .dataframe tbody tr th {\n",
       "        vertical-align: top;\n",
       "    }\n",
       "\n",
       "    .dataframe thead th {\n",
       "        text-align: right;\n",
       "    }\n",
       "</style>\n",
       "<table border=\"1\" class=\"dataframe\">\n",
       "  <thead>\n",
       "    <tr style=\"text-align: right;\">\n",
       "      <th></th>\n",
       "      <th>question_text</th>\n",
       "      <th>document_title</th>\n",
       "      <th>language</th>\n",
       "      <th>annotations</th>\n",
       "      <th>document_plaintext</th>\n",
       "      <th>document_url</th>\n",
       "    </tr>\n",
       "  </thead>\n",
       "  <tbody>\n",
       "    <tr>\n",
       "      <th>0</th>\n",
       "      <td>Milloin Charles Fort syntyi?</td>\n",
       "      <td>Charles Fort</td>\n",
       "      <td>finnish</td>\n",
       "      <td>{'answer_start': [18], 'answer_text': ['6. elo...</td>\n",
       "      <td>Charles Hoy Fort (6. elokuuta (joidenkin lähte...</td>\n",
       "      <td>https://fi.wikipedia.org/wiki/Charles%20Fort</td>\n",
       "    </tr>\n",
       "    <tr>\n",
       "      <th>1</th>\n",
       "      <td>“ダン” ダニエル・ジャドソン・キャラハンの出身はどこ</td>\n",
       "      <td>ダニエル・J・キャラハン</td>\n",
       "      <td>japanese</td>\n",
       "      <td>{'answer_start': [35], 'answer_text': ['カリフォルニ...</td>\n",
       "      <td>“ダン”こと、ダニエル・ジャドソン・キャラハンは1890年7月26日、カリフォルニア州サンフ...</td>\n",
       "      <td>https://ja.wikipedia.org/wiki/%E3%83%80%E3%83%...</td>\n",
       "    </tr>\n",
       "    <tr>\n",
       "      <th>10</th>\n",
       "      <td>Mitä on altruismi?</td>\n",
       "      <td>Altruismi</td>\n",
       "      <td>finnish</td>\n",
       "      <td>{'answer_start': [44], 'answer_text': ['epäits...</td>\n",
       "      <td>\\n\\n\\nAltruismi ([1],  ”toinen”[2]) tarkoittaa...</td>\n",
       "      <td>https://fi.wikipedia.org/wiki/Altruismi</td>\n",
       "    </tr>\n",
       "    <tr>\n",
       "      <th>12</th>\n",
       "      <td>Mikä oli Wilhelm Wagner viimeinen sävellys?</td>\n",
       "      <td>Richard Wagner</td>\n",
       "      <td>finnish</td>\n",
       "      <td>{'answer_start': [597], 'answer_text': ['Parsi...</td>\n",
       "      <td>Wagnerin mestariteoksia ovat hänen myöhäiskaud...</td>\n",
       "      <td>https://fi.wikipedia.org/wiki/Richard%20Wagner</td>\n",
       "    </tr>\n",
       "    <tr>\n",
       "      <th>13</th>\n",
       "      <td>Missä Harz sijaitsee?</td>\n",
       "      <td>Harz</td>\n",
       "      <td>finnish</td>\n",
       "      <td>{'answer_start': [25], 'answer_text': ['Pohjoi...</td>\n",
       "      <td>\\n\\nHarz on horstivuoristo Pohjois-Saksassa[1]...</td>\n",
       "      <td>https://fi.wikipedia.org/wiki/Harz</td>\n",
       "    </tr>\n",
       "    <tr>\n",
       "      <th>...</th>\n",
       "      <td>...</td>\n",
       "      <td>...</td>\n",
       "      <td>...</td>\n",
       "      <td>...</td>\n",
       "      <td>...</td>\n",
       "      <td>...</td>\n",
       "    </tr>\n",
       "    <tr>\n",
       "      <th>116055</th>\n",
       "      <td>Who developed the first thermonuclear weapon?</td>\n",
       "      <td>History of nuclear weapons</td>\n",
       "      <td>english</td>\n",
       "      <td>{'answer_start': [-1], 'answer_text': ['']}</td>\n",
       "      <td>In the end, President Truman made the final de...</td>\n",
       "      <td>https://en.wikipedia.org/wiki/History%20of%20n...</td>\n",
       "    </tr>\n",
       "    <tr>\n",
       "      <th>116059</th>\n",
       "      <td>ギュスターヴ・シャルパンティエはいつ生まれた？</td>\n",
       "      <td>ギュスターヴ・シャルパンティエ</td>\n",
       "      <td>japanese</td>\n",
       "      <td>{'answer_start': [-1], 'answer_text': ['']}</td>\n",
       "      <td>ただし、第一次世界大戦時に負傷兵のための音楽会を主宰し、自作の指揮も行うなど隠棲することはな...</td>\n",
       "      <td>https://ja.wikipedia.org/wiki/%E3%82%AE%E3%83%...</td>\n",
       "    </tr>\n",
       "    <tr>\n",
       "      <th>116060</th>\n",
       "      <td>彭 徳懐はいつ生まれた？</td>\n",
       "      <td>彭徳懐故居</td>\n",
       "      <td>japanese</td>\n",
       "      <td>{'answer_start': [-1], 'answer_text': ['']}</td>\n",
       "      <td>彭徳懐故居（ほうとくかいこきょ）は、中華人民共和国の政治家で軍人（中華人民共和国元帥）だった...</td>\n",
       "      <td>https://ja.wikipedia.org/wiki/%E5%BD%AD%E5%BE%...</td>\n",
       "    </tr>\n",
       "    <tr>\n",
       "      <th>116065</th>\n",
       "      <td>ブラームスの出身はどこ？</td>\n",
       "      <td>ヨハネス・ブラームス</td>\n",
       "      <td>japanese</td>\n",
       "      <td>{'answer_start': [-1], 'answer_text': ['']}</td>\n",
       "      <td>\\nベートーヴェンと同様に自然を愛好し、よくウィーン周辺の森を散策した。その際にキャンディを...</td>\n",
       "      <td>https://ja.wikipedia.org/wiki/%E3%83%A8%E3%83%...</td>\n",
       "    </tr>\n",
       "    <tr>\n",
       "      <th>116066</th>\n",
       "      <td>What is the population of Mahwah, NJ?</td>\n",
       "      <td>Mahwah, New Jersey</td>\n",
       "      <td>english</td>\n",
       "      <td>{'answer_start': [-1], 'answer_text': ['']}</td>\n",
       "      <td>The previous mayor, Bill Laforet faced a recal...</td>\n",
       "      <td>https://en.wikipedia.org/wiki/Mahwah%2C%20New%...</td>\n",
       "    </tr>\n",
       "  </tbody>\n",
       "</table>\n",
       "<p>29868 rows × 6 columns</p>\n",
       "</div>"
      ],
      "text/plain": [
       "                                        question_text  \\\n",
       "0                        Milloin Charles Fort syntyi?   \n",
       "1                         “ダン” ダニエル・ジャドソン・キャラハンの出身はどこ   \n",
       "10                                 Mitä on altruismi?   \n",
       "12        Mikä oli Wilhelm Wagner viimeinen sävellys?   \n",
       "13                              Missä Harz sijaitsee?   \n",
       "...                                               ...   \n",
       "116055  Who developed the first thermonuclear weapon?   \n",
       "116059                        ギュスターヴ・シャルパンティエはいつ生まれた？   \n",
       "116060                                   彭 徳懐はいつ生まれた？   \n",
       "116065                                   ブラームスの出身はどこ？   \n",
       "116066          What is the population of Mahwah, NJ?   \n",
       "\n",
       "                    document_title  language  \\\n",
       "0                     Charles Fort   finnish   \n",
       "1                     ダニエル・J・キャラハン  japanese   \n",
       "10                       Altruismi   finnish   \n",
       "12                  Richard Wagner   finnish   \n",
       "13                            Harz   finnish   \n",
       "...                            ...       ...   \n",
       "116055  History of nuclear weapons   english   \n",
       "116059             ギュスターヴ・シャルパンティエ  japanese   \n",
       "116060                       彭徳懐故居  japanese   \n",
       "116065                  ヨハネス・ブラームス  japanese   \n",
       "116066          Mahwah, New Jersey   english   \n",
       "\n",
       "                                              annotations  \\\n",
       "0       {'answer_start': [18], 'answer_text': ['6. elo...   \n",
       "1       {'answer_start': [35], 'answer_text': ['カリフォルニ...   \n",
       "10      {'answer_start': [44], 'answer_text': ['epäits...   \n",
       "12      {'answer_start': [597], 'answer_text': ['Parsi...   \n",
       "13      {'answer_start': [25], 'answer_text': ['Pohjoi...   \n",
       "...                                                   ...   \n",
       "116055        {'answer_start': [-1], 'answer_text': ['']}   \n",
       "116059        {'answer_start': [-1], 'answer_text': ['']}   \n",
       "116060        {'answer_start': [-1], 'answer_text': ['']}   \n",
       "116065        {'answer_start': [-1], 'answer_text': ['']}   \n",
       "116066        {'answer_start': [-1], 'answer_text': ['']}   \n",
       "\n",
       "                                       document_plaintext  \\\n",
       "0       Charles Hoy Fort (6. elokuuta (joidenkin lähte...   \n",
       "1       “ダン”こと、ダニエル・ジャドソン・キャラハンは1890年7月26日、カリフォルニア州サンフ...   \n",
       "10      \\n\\n\\nAltruismi ([1],  ”toinen”[2]) tarkoittaa...   \n",
       "12      Wagnerin mestariteoksia ovat hänen myöhäiskaud...   \n",
       "13      \\n\\nHarz on horstivuoristo Pohjois-Saksassa[1]...   \n",
       "...                                                   ...   \n",
       "116055  In the end, President Truman made the final de...   \n",
       "116059  ただし、第一次世界大戦時に負傷兵のための音楽会を主宰し、自作の指揮も行うなど隠棲することはな...   \n",
       "116060  彭徳懐故居（ほうとくかいこきょ）は、中華人民共和国の政治家で軍人（中華人民共和国元帥）だった...   \n",
       "116065  \\nベートーヴェンと同様に自然を愛好し、よくウィーン周辺の森を散策した。その際にキャンディを...   \n",
       "116066  The previous mayor, Bill Laforet faced a recal...   \n",
       "\n",
       "                                             document_url  \n",
       "0            https://fi.wikipedia.org/wiki/Charles%20Fort  \n",
       "1       https://ja.wikipedia.org/wiki/%E3%83%80%E3%83%...  \n",
       "10                https://fi.wikipedia.org/wiki/Altruismi  \n",
       "12         https://fi.wikipedia.org/wiki/Richard%20Wagner  \n",
       "13                     https://fi.wikipedia.org/wiki/Harz  \n",
       "...                                                   ...  \n",
       "116055  https://en.wikipedia.org/wiki/History%20of%20n...  \n",
       "116059  https://ja.wikipedia.org/wiki/%E3%82%AE%E3%83%...  \n",
       "116060  https://ja.wikipedia.org/wiki/%E5%BD%AD%E5%BE%...  \n",
       "116065  https://ja.wikipedia.org/wiki/%E3%83%A8%E3%83%...  \n",
       "116066  https://en.wikipedia.org/wiki/Mahwah%2C%20New%...  \n",
       "\n",
       "[29868 rows x 6 columns]"
      ]
     },
     "execution_count": 5,
     "metadata": {},
     "output_type": "execute_result"
    }
   ],
   "source": [
    "df"
   ]
  },
  {
   "cell_type": "code",
   "execution_count": 6,
   "id": "288ee902",
   "metadata": {},
   "outputs": [],
   "source": [
    "from janome.tokenizer import Tokenizer as tok_jap #japanese tokenizer\n",
    "tok_jap = tok_jap()\n",
    "from nltk.tokenize import word_tokenize #english tokenizer\n",
    "#[token for token in t.tokenize(df.iloc[1,4], wakati=True)]"
   ]
  },
  {
   "cell_type": "code",
   "execution_count": 7,
   "id": "fa8cd3da",
   "metadata": {},
   "outputs": [
    {
     "data": {
      "text/plain": [
       "['Parsifal']"
      ]
     },
     "execution_count": 7,
     "metadata": {},
     "output_type": "execute_result"
    }
   ],
   "source": [
    "df.iloc[3,3]['answer_text']"
   ]
  },
  {
   "cell_type": "code",
   "execution_count": 8,
   "id": "54d9b906",
   "metadata": {},
   "outputs": [
    {
     "name": "stderr",
     "output_type": "stream",
     "text": [
      "100%|███████████████████████████████████████████████████████████████████████████| 29868/29868 [02:20<00:00, 212.62it/s]\n"
     ]
    }
   ],
   "source": [
    "from tqdm import tqdm\n",
    "\n",
    "tokenized_answers = {} #dictionary, key = number of iteration in the dataframe, value = answer_text, or '' if it's not answerable\n",
    "tokenized_questions = {} #same as before but with questions\n",
    "tokenized_documents = {} #same but with documents\n",
    "\n",
    "for i in tqdm(range(len(df))):\n",
    "    if df.iloc[i,2] == 'japanese': #check the language\n",
    "        tokenized_answers[i] = [token for token in tok_jap.tokenize(df.iloc[i,3]['answer_text'][0], wakati=True)]\n",
    "        tokenized_questions[i] = [token for token in tok_jap.tokenize(df.iloc[i,0], wakati=True)]\n",
    "        tokenized_documents[i] = [token for token in tok_jap.tokenize(df.iloc[i,4], wakati=True)]\n",
    "    if df.iloc[i,2] == 'english':\n",
    "        tokenized_answers[i] = word_tokenize(df.iloc[i,3]['answer_text'][0])\n",
    "        tokenized_questions[i] = word_tokenize(df.iloc[i,0])\n",
    "        tokenized_documents[i] = word_tokenize(df.iloc[i,4])\n",
    "    if df.iloc[i,2] == 'finnish': #I used the same tokenizer, maybe we can find another one that is better for finnish\n",
    "        tokenized_answers[i] = word_tokenize(df.iloc[i,3]['answer_text'][0])\n",
    "        tokenized_questions[i] = word_tokenize(df.iloc[i,0])\n",
    "        tokenized_documents[i] = word_tokenize(df.iloc[i,4])"
   ]
  },
  {
   "cell_type": "code",
   "execution_count": 9,
   "id": "c9ef9381",
   "metadata": {},
   "outputs": [
    {
     "name": "stderr",
     "output_type": "stream",
     "text": [
      "100%|█████████████████████████████████████████████████████████████████████████████| 3712/3712 [00:16<00:00, 227.68it/s]\n"
     ]
    }
   ],
   "source": [
    "from tqdm import tqdm\n",
    "\n",
    "tokenized_answers_validation = {} #dictionary, key = number of iteration in the dataframe, value = answer_text, or '' if it's not answerable\n",
    "tokenized_questions_validation = {} #same as before but with questions\n",
    "tokenized_documents_validation = {} #same but with documents\n",
    "\n",
    "for i in tqdm(range(len(vs))):\n",
    "    if vs.iloc[i,2] == 'japanese': #check the language\n",
    "        tokenized_answers_validation[i] = [token for token in tok_jap.tokenize(vs.iloc[i,3]['answer_text'][0], wakati=True)]\n",
    "        tokenized_questions_validation[i] = [token for token in tok_jap.tokenize(vs.iloc[i,0], wakati=True)]\n",
    "        tokenized_documents_validation[i] = [token for token in tok_jap.tokenize(vs.iloc[i,4], wakati=True)]\n",
    "    if vs.iloc[i,2] == 'english':\n",
    "        tokenized_answers_validation[i] = word_tokenize(vs.iloc[i,3]['answer_text'][0])\n",
    "        tokenized_questions_validation[i] = word_tokenize(vs.iloc[i,0])\n",
    "        tokenized_documents_validation[i] = word_tokenize(vs.iloc[i,4])\n",
    "    if vs.iloc[i,2] == 'finnish': #I used the same tokenizer, maybe we can find another one that is better for finnish\n",
    "        tokenized_answers_validation[i] = word_tokenize(vs.iloc[i,3]['answer_text'][0])\n",
    "        tokenized_questions_validation[i] = word_tokenize(vs.iloc[i,0])\n",
    "        tokenized_documents_validation[i] = word_tokenize(vs.iloc[i,4])"
   ]
  },
  {
   "cell_type": "markdown",
   "id": "e194d9f8",
   "metadata": {},
   "source": [
    "# Creating trainset and validation set for the classifier"
   ]
  },
  {
   "cell_type": "code",
   "execution_count": 60,
   "id": "8b554f65",
   "metadata": {},
   "outputs": [],
   "source": [
    "import nltk\n",
    "#need only question and document, I don't really need the tokenization done before:\n",
    "jap_training = {} \n",
    "finn_training = {}\n",
    "eng_training = {}\n",
    "\n",
    "j = 0\n",
    "f = 0\n",
    "e = 0\n",
    "\n",
    "\n",
    "for i in range(len(df)):#create the training set already with N-grams, 1 gram is a word.\n",
    "    sample_dict = {}\n",
    "    sample_dict['question_tokenized'] = tokenized_questions[i]\n",
    "   \n",
    "    #sample_dict['question'] = df.iloc[i,0]\n",
    "    #sample_dict['document'] = df.iloc[i,4]\n",
    "    \n",
    "    if tokenized_answers[i] == [] :\n",
    "        sample_dict['label'] = 0 #not answerable question\n",
    "    else:\n",
    "        sample_dict['label'] = 1\n",
    "        \n",
    "    if df.iloc[i,2] == 'japanese':\n",
    "        jap_training[j] = sample_dict\n",
    "        j += 1\n",
    "        continue\n",
    "    elif df.iloc[i,2] == 'english':\n",
    "        eng_training[e] = sample_dict\n",
    "        e += 1\n",
    "        continue\n",
    "    elif df.iloc[i,2] == 'finnish':\n",
    "        finn_training[f] = sample_dict\n",
    "        f += 1\n",
    "        continue\n"
   ]
  },
  {
   "cell_type": "code",
   "execution_count": 67,
   "id": "7562423e",
   "metadata": {},
   "outputs": [],
   "source": [
    "import nltk\n",
    "\n",
    "jap_val = {} \n",
    "finn_val = {}\n",
    "eng_val = {}\n",
    "\n",
    "j = 0\n",
    "f = 0\n",
    "e = 0\n",
    "\n",
    "\n",
    "for i in range(len(vs)):\n",
    "    sample_dict = {}\n",
    "    sample_dict['question_tokenized'] = tokenized_questions_validation[i]\n",
    "    \n",
    "    if tokenized_answers_validation[i] == [] :\n",
    "        sample_dict['label'] = 0 #not answerable question\n",
    "    else:\n",
    "        sample_dict['label'] = 1\n",
    "        \n",
    "    if vs.iloc[i,2] == 'japanese':\n",
    "        jap_val[j] = sample_dict\n",
    "        j += 1\n",
    "        continue\n",
    "    elif vs.iloc[i,2] == 'english':\n",
    "        eng_val[e] = sample_dict\n",
    "        e += 1\n",
    "        continue\n",
    "    elif vs.iloc[i,2] == 'finnish':\n",
    "        finn_val[f] = sample_dict\n",
    "        f += 1\n",
    "        continue\n",
    "        "
   ]
  },
  {
   "cell_type": "markdown",
   "id": "fca3583e",
   "metadata": {},
   "source": [
    "## Create corpus for bag of words (one for each lang)"
   ]
  },
  {
   "cell_type": "code",
   "execution_count": 71,
   "id": "0da71b2c",
   "metadata": {},
   "outputs": [],
   "source": [
    "#corpus to create a vocabulary with all possible words\n",
    "\n",
    "corpus_questions_eng = []\n",
    "corpus_questions_finn = []\n",
    "corpus_questions_jap = []\n",
    "\n",
    "for x in eng_training:\n",
    "    corpus_questions_eng.append(eng_training[x]['question_tokenized'])\n",
    "for x in finn_training:\n",
    "    corpus_questions_finn.append(finn_training[x]['question_tokenized'])\n",
    "for x in jap_training:\n",
    "    corpus_questions_jap.append(jap_training[x]['question_tokenized'])"
   ]
  },
  {
   "cell_type": "code",
   "execution_count": 75,
   "id": "ec0d4fed",
   "metadata": {},
   "outputs": [],
   "source": [
    "bag_of_words_dict_eng = {}\n",
    "bag_of_words_dict_finn = {}\n",
    "bag_of_words_dict_jap = {}\n",
    "\n",
    "for question in corpus_questions_eng:\n",
    "    for word in question:\n",
    "        if word not in bag_of_words_dict_eng:\n",
    "            bag_of_words_dict_eng[word] = 1\n",
    "        else:\n",
    "            bag_of_words_dict_eng[word] +=1\n",
    "            \n",
    "for question in corpus_questions_finn:\n",
    "    for word in question:\n",
    "        if word not in bag_of_words_dict_finn:\n",
    "            bag_of_words_dict_finn[word] = 1\n",
    "        else:\n",
    "            bag_of_words_dict_finn[word] +=1\n",
    "            \n",
    "for question in corpus_questions_jap:\n",
    "    for word in question:\n",
    "        if word not in bag_of_words_dict_jap:\n",
    "            bag_of_words_dict_jap[word] = 1\n",
    "        else:\n",
    "            bag_of_words_dict_jap[word] +=1\n",
    "            \n",
    "#list_words = bag_of_words_dict_eng.keys()"
   ]
  },
  {
   "cell_type": "code",
   "execution_count": 77,
   "id": "33c1bde8",
   "metadata": {},
   "outputs": [
    {
     "data": {
      "text/plain": [
       "5607"
      ]
     },
     "execution_count": 77,
     "metadata": {},
     "output_type": "execute_result"
    }
   ],
   "source": [
    "len(bag_of_words_dict_jap)"
   ]
  },
  {
   "cell_type": "code",
   "execution_count": 49,
   "id": "ed1de7d3",
   "metadata": {},
   "outputs": [
    {
     "data": {
      "text/plain": [
       "'\\nbag_of_words_dict_eng = {}\\nfor question in corpus_questions:\\n    for word in question:\\n        if word not in bag_of_words_dict_eng:\\n            bag_of_words_dict_eng[word] = 1\\n        else:\\n            bag_of_words_dict_eng[word] +=1\\n'"
      ]
     },
     "execution_count": 49,
     "metadata": {},
     "output_type": "execute_result"
    }
   ],
   "source": [
    "#VALIDATIO SET, the vocabulary should be the same as the training set\n",
    "#I have to use the same vocabulary as the training, even for the validation set, that's why the commented part of code it's not useful\n",
    "'''\n",
    "bag_of_words_dict_eng = {}\n",
    "for question in corpus_questions:\n",
    "    for word in question:\n",
    "        if word not in bag_of_words_dict_eng:\n",
    "            bag_of_words_dict_eng[word] = 1\n",
    "        else:\n",
    "            bag_of_words_dict_eng[word] +=1\n",
    "'''"
   ]
  },
  {
   "cell_type": "markdown",
   "id": "8b566f53",
   "metadata": {},
   "source": [
    "### Top 10 words in english questions"
   ]
  },
  {
   "cell_type": "code",
   "execution_count": 78,
   "id": "af81be00",
   "metadata": {},
   "outputs": [
    {
     "name": "stdout",
     "output_type": "stream",
     "text": [
      "['?', 'the', 'When', 'was', 'What', 'is', 'of', 'How', 'in', 'did']\n"
     ]
    }
   ],
   "source": [
    "sorted_words_question = dict(sorted(bag_of_words_dict_eng.items(), key=lambda item:item[1], \n",
    "reverse=True))\n",
    "print(list(sorted_words_question)[:10]) #top 10 words in english questions"
   ]
  },
  {
   "cell_type": "markdown",
   "id": "308fbfe2",
   "metadata": {},
   "source": [
    "### Top 10 words in finnish questions"
   ]
  },
  {
   "cell_type": "code",
   "execution_count": 79,
   "id": "7f76aa8d",
   "metadata": {},
   "outputs": [
    {
     "name": "stdout",
     "output_type": "stream",
     "text": [
      "['?', 'on', 'Milloin', 'Mikä', 'Missä', 'Kuka', 'oli', 'Mitä', 'syntyi', 'kuoli']\n"
     ]
    }
   ],
   "source": [
    "sorted_words_question = dict(sorted(bag_of_words_dict_finn.items(), key=lambda item:item[1], \n",
    "reverse=True))\n",
    "print(list(sorted_words_question)[:10]) #top 10 words in english questions"
   ]
  },
  {
   "cell_type": "markdown",
   "id": "86b7f9b2",
   "metadata": {},
   "source": [
    "### Top 10 words in japanese questions"
   ]
  },
  {
   "cell_type": "code",
   "execution_count": 80,
   "id": "58fde165",
   "metadata": {},
   "outputs": [
    {
     "name": "stdout",
     "output_type": "stream",
     "text": [
      "['は', 'の', '？', 'た', 'い', 'つ', '何', 'し', 'どこ', 'が']\n"
     ]
    }
   ],
   "source": [
    "sorted_words_question = dict(sorted(bag_of_words_dict_jap.items(), key=lambda item:item[1], \n",
    "reverse=True))\n",
    "print(list(sorted_words_question)[:10]) #top 10 words in english questions"
   ]
  },
  {
   "cell_type": "code",
   "execution_count": 55,
   "id": "e1c69c59",
   "metadata": {},
   "outputs": [],
   "source": [
    "#ENGLISH\n",
    "for i in eng_training:\n",
    "    local_dict = {}\n",
    "    for key in bag_of_words_dict_eng:\n",
    "        local_dict[key] = 0\n",
    "    for word in eng_training[i]['question_tokenized']:\n",
    "        local_dict[word] += 1\n",
    "    eng_training[i]['BOW'] = local_dict # each elemnt contains the BOW\n",
    "\n",
    "for i in eng_val:\n",
    "    local_dict = {}\n",
    "    for key in bag_of_words_dict_eng:\n",
    "        local_dict[key] = 0\n",
    "    for word in eng_val[i]['question_tokenized']:\n",
    "        if local_dict[key]:\n",
    "            local_dict[word] += 1\n",
    "    eng_val[i]['BOW'] = local_dict # each elemnt contains the BOW\n",
    "    "
   ]
  },
  {
   "cell_type": "code",
   "execution_count": 81,
   "id": "cee35a9d",
   "metadata": {},
   "outputs": [],
   "source": [
    "#FINNISH\n",
    "for i in finn_training:\n",
    "    local_dict = {}\n",
    "    #empty dict with same words\n",
    "    for key in bag_of_words_dict_finn:\n",
    "        local_dict[key] = 0\n",
    "    for word in finn_training[i]['question_tokenized']:\n",
    "        local_dict[word] += 1\n",
    "    finn_training[i]['BOW'] = local_dict # each elemnt contains the BOW\n",
    "\n",
    "for i in finn_val:\n",
    "    local_dict = {}\n",
    "    for key in bag_of_words_dict_finn:\n",
    "        local_dict[key] = 0\n",
    "    for word in finn_val[i]['question_tokenized']:\n",
    "        if local_dict[key]:\n",
    "            local_dict[word] += 1\n",
    "    finn_val[i]['BOW'] = local_dict # each elemnt contains the BOW"
   ]
  },
  {
   "cell_type": "code",
   "execution_count": 82,
   "id": "0ae6ce80",
   "metadata": {},
   "outputs": [],
   "source": [
    "#JAPANESE\n",
    "for i in jap_training:\n",
    "    local_dict = {}\n",
    "    #empty dict with same words\n",
    "    for key in bag_of_words_dict_jap:\n",
    "        local_dict[key] = 0\n",
    "    for word in jap_training[i]['question_tokenized']:\n",
    "        local_dict[word] += 1\n",
    "    jap_training[i]['BOW'] = local_dict # each elemnt contains the BOW\n",
    "\n",
    "for i in jap_val:\n",
    "    local_dict = {}\n",
    "    for key in bag_of_words_dict_jap:\n",
    "        local_dict[key] = 0\n",
    "    for word in jap_val[i]['question_tokenized']:\n",
    "        if local_dict[key]:\n",
    "            local_dict[word] += 1\n",
    "    jap_val[i]['BOW'] = local_dict # each elemnt contains the BOW\n"
   ]
  },
  {
   "cell_type": "code",
   "execution_count": 56,
   "id": "58d83724",
   "metadata": {},
   "outputs": [],
   "source": [
    "#np.array(list(eng_training[1]['BOW'].values())) #CONVERT BOW to ARRAY to be used in classification"
   ]
  },
  {
   "cell_type": "markdown",
   "id": "8f65137f",
   "metadata": {},
   "source": [
    "## ENGLISH model"
   ]
  },
  {
   "cell_type": "code",
   "execution_count": 57,
   "id": "0e8f9554",
   "metadata": {},
   "outputs": [],
   "source": [
    "X = []\n",
    "y = [] #0 not answ, 1 is answ.\n",
    "X_VAL = []\n",
    "Y_VAL = []\n",
    "for i in eng_training:\n",
    "    X.append(np.array(list(eng_training[i]['BOW'].values())))\n",
    "    y.append(eng_training[i]['label'])\n",
    "    \n",
    "for i in eng_val:\n",
    "    X_VAL.append(np.array(list(eng_val[i]['BOW'].values())))\n",
    "    Y_VAL.append(eng_val[i]['label'])"
   ]
  },
  {
   "cell_type": "code",
   "execution_count": 58,
   "id": "81c4edb8",
   "metadata": {},
   "outputs": [
    {
     "data": {
      "text/plain": [
       "50.02030044660982"
      ]
     },
     "execution_count": 58,
     "metadata": {},
     "output_type": "execute_result"
    }
   ],
   "source": [
    "from sklearn.linear_model import LogisticRegression\n",
    "from sklearn.metrics import accuracy_score\n",
    "\n",
    "#creating decision tree\n",
    "LR = LogisticRegression()\n",
    "#training decision tree\n",
    "LR.fit(X, y)\n",
    "y_pred = LR.predict(X)\n",
    "#training accuracy score\n",
    "accuracy_score(y, y_pred)*100"
   ]
  },
  {
   "cell_type": "code",
   "execution_count": 59,
   "id": "c7e4c809",
   "metadata": {},
   "outputs": [
    {
     "data": {
      "text/plain": [
       "50.0"
      ]
     },
     "execution_count": 59,
     "metadata": {},
     "output_type": "execute_result"
    }
   ],
   "source": [
    "#accuracy score on val_set\n",
    "y_pred = LR.predict(X_VAL)\n",
    "accuracy_score(Y_VAL, y_pred)*100"
   ]
  },
  {
   "cell_type": "markdown",
   "id": "f3045a9d",
   "metadata": {},
   "source": [
    "## FINNISH model"
   ]
  },
  {
   "cell_type": "code",
   "execution_count": 83,
   "id": "3a8322e7",
   "metadata": {},
   "outputs": [],
   "source": [
    "X = []\n",
    "y = [] #0 not answ, 1 is answ.\n",
    "X_VAL = []\n",
    "Y_VAL = []\n",
    "for i in finn_training:\n",
    "    X.append(np.array(list(finn_training[i]['BOW'].values())))\n",
    "    y.append(finn_training[i]['label'])\n",
    "    \n",
    "for i in finn_val:\n",
    "    X_VAL.append(np.array(list(finn_val[i]['BOW'].values())))\n",
    "    Y_VAL.append(finn_val[i]['label'])"
   ]
  },
  {
   "cell_type": "code",
   "execution_count": 84,
   "id": "78440cf0",
   "metadata": {},
   "outputs": [
    {
     "data": {
      "text/plain": [
       "50.04014305525144"
      ]
     },
     "execution_count": 84,
     "metadata": {},
     "output_type": "execute_result"
    }
   ],
   "source": [
    "from sklearn.linear_model import LogisticRegression\n",
    "from sklearn.metrics import accuracy_score\n",
    "\n",
    "#creating decision tree\n",
    "LR = LogisticRegression()\n",
    "#training decision tree\n",
    "LR.fit(X, y)\n",
    "y_pred = LR.predict(X)\n",
    "#training accuracy score\n",
    "accuracy_score(y, y_pred)*100"
   ]
  },
  {
   "cell_type": "code",
   "execution_count": 85,
   "id": "f3fd0d78",
   "metadata": {},
   "outputs": [
    {
     "data": {
      "text/plain": [
       "50.0"
      ]
     },
     "execution_count": 85,
     "metadata": {},
     "output_type": "execute_result"
    }
   ],
   "source": [
    "#accuracy score on val_set\n",
    "y_pred = LR.predict(X_VAL)\n",
    "accuracy_score(Y_VAL, y_pred)*100"
   ]
  },
  {
   "cell_type": "markdown",
   "id": "cde01975",
   "metadata": {},
   "source": [
    "# JAPANESE model"
   ]
  },
  {
   "cell_type": "code",
   "execution_count": 86,
   "id": "a198b24b",
   "metadata": {},
   "outputs": [],
   "source": [
    "X = []\n",
    "y = [] #0 not answ, 1 is answ.\n",
    "X_VAL = []\n",
    "Y_VAL = []\n",
    "for i in jap_training:\n",
    "    X.append(np.array(list(jap_training[i]['BOW'].values())))\n",
    "    y.append(jap_training[i]['label'])\n",
    "    \n",
    "for i in jap_val:\n",
    "    X_VAL.append(np.array(list(jap_val[i]['BOW'].values())))\n",
    "    Y_VAL.append(jap_val[i]['label'])"
   ]
  },
  {
   "cell_type": "code",
   "execution_count": 87,
   "id": "049ef791",
   "metadata": {},
   "outputs": [
    {
     "data": {
      "text/plain": [
       "50.01139211665527"
      ]
     },
     "execution_count": 87,
     "metadata": {},
     "output_type": "execute_result"
    }
   ],
   "source": [
    "from sklearn.linear_model import LogisticRegression\n",
    "from sklearn.metrics import accuracy_score\n",
    "\n",
    "#creating decision tree\n",
    "LR = LogisticRegression()\n",
    "#training decision tree\n",
    "LR.fit(X, y)\n",
    "y_pred = LR.predict(X)\n",
    "#training accuracy score\n",
    "accuracy_score(y, y_pred)*100"
   ]
  },
  {
   "cell_type": "code",
   "execution_count": 88,
   "id": "4e77ca15",
   "metadata": {},
   "outputs": [
    {
     "data": {
      "text/plain": [
       "50.0"
      ]
     },
     "execution_count": 88,
     "metadata": {},
     "output_type": "execute_result"
    }
   ],
   "source": [
    "#accuracy score on val_set\n",
    "y_pred = LR.predict(X_VAL)\n",
    "accuracy_score(Y_VAL, y_pred)*100"
   ]
  },
  {
   "cell_type": "code",
   "execution_count": null,
   "id": "e6f2024b",
   "metadata": {},
   "outputs": [],
   "source": []
  },
  {
   "cell_type": "code",
   "execution_count": null,
   "id": "c0c8f2ca",
   "metadata": {},
   "outputs": [],
   "source": []
  },
  {
   "cell_type": "code",
   "execution_count": null,
   "id": "ab346125",
   "metadata": {},
   "outputs": [],
   "source": []
  },
  {
   "cell_type": "code",
   "execution_count": null,
   "id": "0b8cacbb",
   "metadata": {},
   "outputs": [],
   "source": []
  },
  {
   "cell_type": "code",
   "execution_count": null,
   "id": "292271ce",
   "metadata": {},
   "outputs": [],
   "source": []
  }
 ],
 "metadata": {
  "kernelspec": {
   "display_name": "Python 3 (ipykernel)",
   "language": "python",
   "name": "python3"
  },
  "language_info": {
   "codemirror_mode": {
    "name": "ipython",
    "version": 3
   },
   "file_extension": ".py",
   "mimetype": "text/x-python",
   "name": "python",
   "nbconvert_exporter": "python",
   "pygments_lexer": "ipython3",
   "version": "3.10.5"
  }
 },
 "nbformat": 4,
 "nbformat_minor": 5
}
